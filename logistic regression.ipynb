{
 "metadata": {
  "name": "logistic regression"
 },
 "nbformat": 3,
 "nbformat_minor": 0,
 "worksheets": [
  {
   "cells": [
    {
     "cell_type": "code",
     "collapsed": false,
     "input": [
      "import numpy as np\n",
      "from pandas import *\n",
      "import matplotlib.pyplot as plt\n",
      "import os\n",
      "import statsmodels.api as sm\n",
      "#from statsmodels.formula.api #import logit, glm\n",
      "#from statsmodels.discrete.discrete_model import Logit\n",
      "\n",
      "file = read_csv('wordFeatures.csv', names=['file_name', 'label', 'f1', 'f2', 'f3', 'f4', 'f5', 'f6', 'f7', 'f8', 'f9', 'f10'])\n",
      "X = file[['f1', 'f2', 'f3', 'f4', 'f5', 'f6', 'f7', 'f8', 'f9', 'f10']]\n",
      "train_X = X[:19607]\n",
      "test_X = X[-19607:]\n",
      "Y = file['label']\n",
      "train_Y = Y[:19607]\n",
      "train_Y = Y[-19607:]\n",
      "\n",
      "logit_pars = writing_logit.params #betas coefficients\n",
      "#logit_pars['f1']\n",
      "#intercept = -logit_pars['Intercept'] / logit_pars['Weight']\n",
      "#slope =  -logit_pars['Height'] / logit_pars['Weight']\n",
      "#array = writing_logit.predict(X)\n",
      "\n",
      "#def binarize(array):\n",
      "'''\n",
      "for i in range(len(array)):\n",
      "    if array[i] < 0.5:\n",
      "        return True\n",
      "    elif array[i] > 0.5:\n",
      "        return False\n",
      "\n",
      "#X[:253]\n",
      "#X[253:]\n",
      "#train_X\n",
      "#by_writer = file.groupby('file_name')\n",
      "#by_writer.ix['file_name']\n",
      "#file['file_name'][:3]\n",
      "'''\n",
      "\n",
      "writing_logit = sm.Logit(Y, X).fit()\n",
      "print writing_logit.summary()\n"
     ],
     "language": "python",
     "metadata": {},
     "outputs": [
      {
       "output_type": "stream",
       "stream": "stdout",
       "text": [
        "Optimization terminated successfully.\n",
        "         Current function value: 19292.027826\n",
        "         Iterations 4\n",
        "                           Logit Regression Results                           \n",
        "==============================================================================\n",
        "Dep. Variable:                  label   No. Observations:                28010\n",
        "Model:                          Logit   Df Residuals:                    28000\n",
        "Method:                           MLE   Df Model:                            9\n",
        "Date:                Wed, 08 May 2013   Pseudo R-squ.:                0.006010\n",
        "Time:                        00:01:35   Log-Likelihood:                -19292.\n",
        "converged:                       True   LL-Null:                       -19409.\n",
        "                                        LLR p-value:                 3.350e-45\n",
        "==============================================================================\n",
        "                 coef    std err          z      P>|z|      [95.0% Conf. Int.]\n",
        "------------------------------------------------------------------------------\n",
        "f1             0.0047      0.004      1.050      0.294        -0.004     0.013\n",
        "f2             0.0078      0.002      3.181      0.001         0.003     0.013\n",
        "f3            -0.0064      0.004     -1.831      0.067        -0.013     0.000\n",
        "f4             0.4310      0.127      3.403      0.001         0.183     0.679\n",
        "f5            -0.1696      0.034     -4.997      0.000        -0.236    -0.103\n",
        "f6             0.0245      0.017      1.447      0.148        -0.009     0.058\n",
        "f7             0.0033      0.005      0.710      0.477        -0.006     0.013\n",
        "f8             0.0198      0.005      4.138      0.000         0.010     0.029\n",
        "f9            -0.0057      0.001     -8.836      0.000        -0.007    -0.004\n",
        "f10            0.0033      0.002      1.873      0.061        -0.000     0.007\n",
        "=============================================================================="
       ]
      },
      {
       "output_type": "stream",
       "stream": "stdout",
       "text": [
        "\n"
       ]
      }
     ],
     "prompt_number": 160
    }
   ],
   "metadata": {}
  }
 ]
}